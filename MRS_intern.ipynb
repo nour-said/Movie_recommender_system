{
  "nbformat": 4,
  "nbformat_minor": 0,
  "metadata": {
    "colab": {
      "provenance": [],
      "authorship_tag": "ABX9TyN+13C9brar+rSn3qI5sMVZ",
      "include_colab_link": true
    },
    "kernelspec": {
      "name": "python3",
      "display_name": "Python 3"
    },
    "language_info": {
      "name": "python"
    }
  },
  "cells": [
    {
      "cell_type": "markdown",
      "metadata": {
        "id": "view-in-github",
        "colab_type": "text"
      },
      "source": [
        "<a href=\"https://colab.research.google.com/github/nour-said/Movie_recommender_system/blob/main/MRS_intern.ipynb\" target=\"_parent\"><img src=\"https://colab.research.google.com/assets/colab-badge.svg\" alt=\"Open In Colab\"/></a>"
      ]
    },
    {
      "cell_type": "code",
      "execution_count": 45,
      "metadata": {
        "id": "jZMkRx2zp8c9"
      },
      "outputs": [],
      "source": [
        "import pandas as pd\n",
        "import numpy as np\n",
        "from sklearn.metrics.pairwise import cosine_similarity\n",
        "from sklearn.decomposition import TruncatedSVD\n",
        "from termcolor import colored"
      ]
    },
    {
      "cell_type": "code",
      "source": [
        "# Load MovieLens 100K dataset (u.data + u.item)\n",
        "ratings = pd.read_csv(\"u.data\", sep=\"\\t\", names=[\"user_id\", \"item_id\", \"rating\", \"timestamp\"])\n",
        "movies = pd.read_csv(\"u.item\", sep=\"|\", encoding=\"latin-1\", header=None, usecols=[0,1], names=[\"item_id\", \"title\"])\n",
        "\n",
        "# Merge\n",
        "ratings = pd.merge(ratings, movies, on=\"item_id\")\n",
        "\n",
        "print(\" Dataset Loaded\")\n",
        "print(ratings.head())\n"
      ],
      "metadata": {
        "id": "IiJmhB5UqP6t",
        "colab": {
          "base_uri": "https://localhost:8080/"
        },
        "outputId": "ec05a942-7be4-4adf-f9fc-df4a5b544f6a"
      },
      "execution_count": 46,
      "outputs": [
        {
          "output_type": "stream",
          "name": "stdout",
          "text": [
            " Dataset Loaded\n",
            "   user_id  item_id  rating  timestamp                       title\n",
            "0      196      242       3  881250949                Kolya (1996)\n",
            "1      186      302       3  891717742    L.A. Confidential (1997)\n",
            "2       22      377       1  878887116         Heavyweights (1994)\n",
            "3      244       51       2  880606923  Legends of the Fall (1994)\n",
            "4      166      346       1  886397596         Jackie Brown (1997)\n"
          ]
        }
      ]
    },
    {
      "cell_type": "code",
      "source": [
        "# Pivot table (users × movies)\n",
        "user_item_matrix = ratings.pivot_table(index=\"user_id\", columns=\"title\", values=\"rating\")\n",
        "\n",
        "print(\" User-Item Matrix created\")\n",
        "print(user_item_matrix.shape)"
      ],
      "metadata": {
        "id": "xq0ZCyz2qUBd",
        "colab": {
          "base_uri": "https://localhost:8080/"
        },
        "outputId": "c544a68f-396d-40b0-b9ce-b1965cba8b04"
      },
      "execution_count": 47,
      "outputs": [
        {
          "output_type": "stream",
          "name": "stdout",
          "text": [
            " User-Item Matrix created\n",
            "(943, 1664)\n"
          ]
        }
      ]
    },
    {
      "cell_type": "code",
      "source": [
        "# Keep NaNs in user_item_matrix\n",
        "user_item_matrix = ratings.pivot_table(index='user_id', columns='title', values='rating')\n",
        "\n",
        "# For cosine similarity, fill NaN with 0 (just for similarity calculation)\n",
        "item_item_matrix = user_item_matrix.fillna(0).T\n",
        "\n",
        "item_similarity = pd.DataFrame(\n",
        "    cosine_similarity(item_item_matrix),\n",
        "    index=item_item_matrix.index,\n",
        "    columns=item_item_matrix.index\n",
        ")\n",
        "\n",
        "def recommend_movies_item_based(user_id, n=5):\n",
        "    # Get movies that the user has rated\n",
        "    user_ratings = user_item_matrix.loc[user_id].dropna()\n",
        "    scores = pd.Series(dtype=float)\n",
        "\n",
        "    for movie, rating in user_ratings.items():\n",
        "        # Weight similarity by user rating\n",
        "        similar_scores = item_similarity[movie] * rating\n",
        "        scores = scores.add(similar_scores, fill_value=0)\n",
        "\n",
        "    # Remove already seen movies\n",
        "    scores = scores.drop(user_ratings.index, errors=\"ignore\")\n",
        "\n",
        "    # Return top-n recommendations\n",
        "    return scores.sort_values(ascending=False).head(n)\n"
      ],
      "metadata": {
        "id": "Z0_b74pnm9q7"
      },
      "execution_count": 49,
      "outputs": []
    },
    {
      "cell_type": "code",
      "source": [
        "# Replace NaN with 0\n",
        "matrix = user_item_matrix.fillna(0)\n",
        "\n",
        "# SVD\n",
        "svd = TruncatedSVD(n_components=20)\n",
        "matrix_svd = svd.fit_transform(matrix)\n",
        "\n",
        "# Reconstructed ratings\n",
        "pred_matrix = np.dot(matrix_svd, svd.components_)\n",
        "pred_ratings = pd.DataFrame(pred_matrix, index=matrix.index, columns=matrix.columns)\n",
        "\n",
        "def recommend_movies_svd(user_id, n=5):\n",
        "    user_ratings = user_item_matrix.loc[user_id].dropna()\n",
        "    preds = pred_ratings.loc[user_id].drop(user_ratings.index, errors=\"ignore\")\n",
        "    return preds.sort_values(ascending=False).head(n)\n"
      ],
      "metadata": {
        "id": "5hQtlAD7rVji"
      },
      "execution_count": 50,
      "outputs": []
    },
    {
      "cell_type": "code",
      "source": [
        "def precision_at_k(recommended, actual, k=5):\n",
        "    recommended_k = recommended.index[:k]\n",
        "    hits = len(set(recommended_k).intersection(set(actual)))\n",
        "    return hits / k\n",
        "\n",
        "def get_actual_likes(user_id, threshold=4):\n",
        "    return ratings[(ratings[\"user_id\"] == user_id) & (ratings[\"rating\"] >= threshold)][\"title\"].tolist()\n"
      ],
      "metadata": {
        "id": "DPh8NTNQDHOH"
      },
      "execution_count": 51,
      "outputs": []
    },
    {
      "cell_type": "code",
      "source": [
        "from sklearn.model_selection import train_test_split\n",
        "\n",
        "print(\" Step 6: Evaluation\")\n",
        "\n",
        "# --- Split ratings into train/test ---\n",
        "train, test = train_test_split(ratings, test_size=0.2, random_state=42)\n",
        "\n",
        "# Rebuild user-item matrix only from TRAIN\n",
        "user_item_matrix = train.pivot_table(index='user_id', columns='title', values='rating')\n",
        "\n",
        "# Rebuild similarity with train data\n",
        "item_item_matrix = user_item_matrix.fillna(0).T\n",
        "item_similarity = pd.DataFrame(\n",
        "    cosine_similarity(item_item_matrix),\n",
        "    index=item_item_matrix.index,\n",
        "    columns=item_item_matrix.index\n",
        ")\n",
        "\n",
        "# --- Functions ---\n",
        "def get_actual_likes(user_id, threshold=4):\n",
        "    \"\"\"Movies the user rated highly in the TEST set (hidden).\"\"\"\n",
        "    return test[(test['user_id'] == user_id) & (test['rating'] >= threshold)]['title'].tolist()\n",
        "\n",
        "def precision_at_k(recommended, actual, k=5):\n",
        "    recommended_k = recommended.index[:k]\n",
        "    hits = len(set(recommended_k).intersection(set(actual)))\n",
        "    return hits / k if k > 0 else 0\n",
        "\n",
        "# --- Evaluation for all users ---\n",
        "all_users = user_item_matrix.index.tolist()\n",
        "results = []\n",
        "\n",
        "for u in all_users:\n",
        "    actual_likes = get_actual_likes(u, threshold=4)\n",
        "    if len(actual_likes) == 0:\n",
        "        continue\n",
        "\n",
        "    rec_item = recommend_movies_item_based(u, 5)\n",
        "    rec_svd = recommend_movies_svd(u, 5)\n",
        "\n",
        "    prec_item = precision_at_k(rec_item, actual_likes, k=5)\n",
        "    prec_svd = precision_at_k(rec_svd, actual_likes, k=5)\n",
        "\n",
        "    results.append((prec_item, prec_svd))\n",
        "\n",
        "results_df = pd.DataFrame(results, columns=[\"Item-based P@5\", \"SVD P@5\"])\n",
        "\n",
        "print(\"\\n📊 Average Precision@5:\")\n",
        "print(f\"Item-based CF = {results_df['Item-based P@5'].mean():.3f}\")\n",
        "print(f\"SVD = {results_df['SVD P@5'].mean():.3f}\")\n",
        "\n",
        "# --- Interactive user test ---\n",
        "user_id = int(input(\"\\n🔹 Enter a User ID (1–943): \"))\n",
        "\n",
        "actual_likes = get_actual_likes(user_id, threshold=4)\n",
        "print(f\"\\n--> User {user_id} actually liked:\")\n",
        "print(actual_likes)\n",
        "\n",
        "rec_item = recommend_movies_item_based(user_id, 5)\n",
        "rec_svd = recommend_movies_svd(user_id, 5)\n",
        "\n",
        "print(\"\\n📌 Item-based CF Recommendations:\")\n",
        "print(list(rec_item.index))\n",
        "\n",
        "print(\"\\n📌 SVD Recommendations:\")\n",
        "print(list(rec_svd.index))\n"
      ],
      "metadata": {
        "colab": {
          "base_uri": "https://localhost:8080/"
        },
        "id": "6TIILmAGnR6K",
        "outputId": "8ac1af25-17a4-4a66-8f13-b4cb06d75e81"
      },
      "execution_count": 54,
      "outputs": [
        {
          "output_type": "stream",
          "name": "stdout",
          "text": [
            " Step 6: Evaluation\n",
            "\n",
            "📊 Average Precision@5:\n",
            "Item-based CF = 0.266\n",
            "SVD = 0.449\n",
            "\n",
            "🔹 Enter a User ID (1–943): 45\n",
            "\n",
            "--> User 45 actually liked:\n",
            "['Blue in the Face (1995)', 'Godfather, The (1972)', 'That Thing You Do! (1996)', 'Men in Black (1997)']\n",
            "\n",
            "📌 Item-based CF Recommendations:\n",
            "['Mission: Impossible (1996)', 'Rock, The (1996)', 'Star Trek: First Contact (1996)', 'Twelve Monkeys (1995)', 'Phenomenon (1996)']\n",
            "\n",
            "📌 SVD Recommendations:\n",
            "['Rock, The (1996)', 'Godfather, The (1972)', 'Men in Black (1997)', 'Mission: Impossible (1996)', 'Twelve Monkeys (1995)']\n"
          ]
        }
      ]
    },
    {
      "cell_type": "code",
      "source": [
        "import matplotlib.pyplot as plt\n",
        "plt.hist(results_df[\"Item-based P@5\"], alpha=0.6, label=\"Item-based CF\", bins=10)\n",
        "plt.hist(results_df[\"SVD P@5\"], alpha=0.6, label=\"SVD\", bins=10)\n",
        "plt.title(\"Distribution of Precision@5 Across Users\")\n",
        "plt.xlabel(\"Precision@5\")\n",
        "plt.ylabel(\"Number of Users\")\n",
        "plt.legend()\n",
        "plt.show()\n"
      ],
      "metadata": {
        "colab": {
          "base_uri": "https://localhost:8080/",
          "height": 472
        },
        "id": "rzTjugjVoU0o",
        "outputId": "25876c2d-ff80-4566-9b9c-80058f199552"
      },
      "execution_count": 57,
      "outputs": [
        {
          "output_type": "display_data",
          "data": {
            "text/plain": [
              "<Figure size 640x480 with 1 Axes>"
            ],
            "image/png": "[encoded data removed]"
          },
          "metadata": {}
        }
      ]
    },
    {
      "cell_type": "code",
      "source": [],
      "metadata": {
        "id": "yRpO11eEro4j"
      },
      "execution_count": null,
      "outputs": []
    }
  ]
}